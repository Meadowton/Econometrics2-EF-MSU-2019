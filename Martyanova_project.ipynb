{
 "cells": [
  {
   "cell_type": "markdown",
   "metadata": {},
   "source": [
    "# Обзор литературы"
   ]
  },
  {
   "cell_type": "markdown",
   "metadata": {},
   "source": [
    "## Билингвизм\n",
    "Эта тема интересует экономистов не только с точки зрения эмпирических результатов, но и с точки зрения [теории игр](http://econ.ucsb.edu/~tedb/Courses/Ec100C/seltenpool.pdf). \n",
    "Эмпирические исследования билингвизма дают смешанные результаты. \n",
    "1. В исследовании [\"Male-female earnings differentials and the role of language in Canada, Ontario, and Quebec\"](https://www.jstor.org/stable/pdf/134804.pdf?casa_token=N6ydUHfV2KcAAAAA:zE5pAFP1809qPCOe9agt6DfGiCM7wkNuvb3ATt4S5gKWq6IPxuogErYUf2U5ai5gGbiFiJZIUSQI9aQ8MWZ3A6BUdUs452EpFMRarmnKbckWy7Pg7lQ) Shapiro и Stelcner не обнаружили значимого выигрыша от знания языка другой группы для носителей английского и французского языков. В последующей работе, основанной на данных переписи 1990 года они обнаружили значимый положительный выигрыш для носителей французского языка, знающих английский. \n",
    "2. [\"Earnings by Language Group in Quebec in 1980 and Emigration from Quebec between 1976\n",
    "and 1981\", Grenier (1987)](https://www.jstor.org/stable/pdf/135415.pdf?casa_token=gPIrg9crXNoAAAAA:yvCL2kZ6vAD1EeoB0dPsyErxfkBYGyn1ElT5-Shv0vREZKCVhUkpiUNm-bA9xlr470XTJNyonyDWhoGUYukm0O4rx2sXPA77q2lwobDaKglO0ahw5FA)\n",
    "3. \n",
    "4. В [\"Economic Returns to Speaking the Right Language(s)? Evidence from Kazakhstan’s Shift in State Language and Language of Instruction\", Alisher Aldashev, Alexander M. Danzer, (2014)](https://www.ssrn.com/abstract=2536267) авторы проанализировали два больших опроса, один из которых был проведен до того, как казахский стал официальным государственным языком (Living Standard Measurement Survey 1996), а второй -- уже после (Research Institute CIOM multistage random sample, 2010). В обоих случаях знающие казахский получали меньший доход. Они также использовали инструменты -- количество лет, проведенных в городских районах, где живут в основном этнически казахи. Поскольку 2МНК-оценки оказались близки к оценкам обычного МНК, авторы пришли к выводу, что обратная причинно-следственная связь не является проблемой. Затем они обратились к данным PISA и пришли к выводу, что качество обучения на казахском хуже, чем на русском, для носителей обоих языков. Авторы связали это с нехваткой учебных материалов на казахском, низкими квалификацией и мотивацией учителей. "
   ]
  },
  {
   "cell_type": "markdown",
   "metadata": {},
   "source": [
    "## Оценка выигрыша от знания языка\n",
    "### Близкое к моему проекту исследование: [Ginsburgh, Victor A. and Prieto-Rodriguez, Juan (2011) \"Returns to Foreign Languages of Native Workers in the EU\"](http://ecares.ulb.ac.be/ecare/personal/ginsburgh/papers/170%20returns.pdf)\n",
    "\n",
    "* в исследовании использовались панельные данные The European Community Household Survey за 1994-2001 гг.\n",
    "* данные для 9 стран Евросоюза: Австрия, Дания, Финляндия, Франция, Германия, Греция, Италия, Португалия и Испания.\n",
    "* использовались данные только для мужчин, чтобы уменьшить гетерогенность. \n",
    "* было использовано 2 типа переменных: бинарные переменные для знания языка и disenfranchisement rate (доля населения, которая не говорит на данном языке). В первой спецификации модели использовались бинарные переменные, в двух других -- DR. \n",
    "* анализировалось Mincer-type equation с помощью OLS и IV quantile regression (Chernozhukov, Hansen). Оценки для OLS оказались существенно ниже. IV quantile regression, по мнению авторов, помогает снизить ненаблюдаемую гетерогенность, так как работники из одного квантиля наверняка обладают схожими ненаблюдаемыми характеристиками.\n",
    "* В качестве инструмента авторы попытались использовать образование партнера и образование партнера вместе с DR, но как-то не задалось. Других подходящих интрументов авторы не нашли. В итоге они ссылаются на свое приложение: ability bias в этом случае вообще не проблема.\n",
    "#### Выводы\n",
    "* Все переменные для языков во всех трех спецификациях оказались значимыми на 1%-ом уровне, кроме Австрии и Дании. \n",
    "* Результаты снижаются, если ввести контроль за профессией. \n",
    "* Модели приводят к похожим результатам. \n",
    "\n",
    "[\"The Economic Returns to Multiple Language Usage in Western Europe\", Williams, 2006](http://ideas.repec.org/p/irs/iriswp/2006-07.html) Близко к исследованию Гинсбурга, однако в данной статье нет контроля эндогенности, так как автор не сумел найти никаких интрументов. Результаты показывают, что использование второго языка на рабочем месте повышают заработную плату на 5-10%, однако результаты чувсвтительны к спецификации. \n",
    "\n",
    "[\"The Practice Boundaries of Advanced Practice Nurses: An Economic and Legal Analysis\", Michael J. DuekerAda K. JacoxDavid E. KalistStephen J. Spurr](https://link.springer.com/article/10.1007/s11149-005-6626-3). В данном исследовании авторы пришли к выводу, что знание испанского повышает зарплату зарегистрированной медсестры на 7%"
   ]
  },
  {
   "cell_type": "code",
   "execution_count": 1,
   "metadata": {},
   "outputs": [],
   "source": [
    "import numpy as np\n",
    "import matplotlib\n",
    "import pandas as pd\n",
    "import seaborn as sns\n",
    "import matplotlib.pyplot as plt\n",
    "%matplotlib inline\n",
    "import statsmodels.stats.outliers_influence as sso\n",
    "import statsmodels.api as sm\n",
    "import statsmodels.formula.api as smf\n",
    "from linearmodels.iv import IV2SLS\n",
    "import scipy\n",
    "import statsmodels"
   ]
  },
  {
   "cell_type": "markdown",
   "metadata": {},
   "source": [
    "В данном проекте используется:\n",
    "«Российский мониторинг экономического положения и здоровья населения НИУ-ВШЭ (RLMS-HSE)», проводимый Национальным исследовательским университетом  \"Высшая школа экономики\" и ООО «Демоскоп» при участии Центра народонаселения Университета Северной Каролины в Чапел Хилле и Института социологии РАН. (Сайты обследования RLMS-HSE: http://www.cpc.unc.edu/projects/rlms и http://www.hse.ru/rlms)»."
   ]
  },
  {
   "cell_type": "markdown",
   "metadata": {},
   "source": [
    "Приходится использовать 24 волну (10.2015-01.2016), так как это самые свежие данные, где указано знание конкретного иностранного языка. "
   ]
  },
  {
   "cell_type": "code",
   "execution_count": 2,
   "metadata": {},
   "outputs": [],
   "source": [
    "# !pip install savReaderWriter"
   ]
  },
  {
   "cell_type": "code",
   "execution_count": 3,
   "metadata": {},
   "outputs": [],
   "source": [
    "import savReaderWriter as s\n",
    "df = pd.DataFrame(list(s.SavReader('r24i_os26c.sav', returnHeader = True)))"
   ]
  },
  {
   "cell_type": "code",
   "execution_count": 4,
   "metadata": {},
   "outputs": [
    {
     "data": {
      "text/html": [
       "<div>\n",
       "<style scoped>\n",
       "    .dataframe tbody tr th:only-of-type {\n",
       "        vertical-align: middle;\n",
       "    }\n",
       "\n",
       "    .dataframe tbody tr th {\n",
       "        vertical-align: top;\n",
       "    }\n",
       "\n",
       "    .dataframe thead th {\n",
       "        text-align: right;\n",
       "    }\n",
       "</style>\n",
       "<table border=\"1\" class=\"dataframe\">\n",
       "  <thead>\n",
       "    <tr style=\"text-align: right;\">\n",
       "      <th></th>\n",
       "      <th>0</th>\n",
       "      <th>1</th>\n",
       "      <th>2</th>\n",
       "      <th>3</th>\n",
       "      <th>4</th>\n",
       "      <th>5</th>\n",
       "      <th>6</th>\n",
       "      <th>7</th>\n",
       "      <th>8</th>\n",
       "      <th>9</th>\n",
       "      <th>...</th>\n",
       "      <th>854</th>\n",
       "      <th>855</th>\n",
       "      <th>856</th>\n",
       "      <th>857</th>\n",
       "      <th>858</th>\n",
       "      <th>859</th>\n",
       "      <th>860</th>\n",
       "      <th>861</th>\n",
       "      <th>862</th>\n",
       "      <th>863</th>\n",
       "    </tr>\n",
       "  </thead>\n",
       "  <tbody>\n",
       "    <tr>\n",
       "      <th>0</th>\n",
       "      <td>b'idind'</td>\n",
       "      <td>b'tredid_i'</td>\n",
       "      <td>b'tid_i'</td>\n",
       "      <td>b'tid_h'</td>\n",
       "      <td>b'sid_i'</td>\n",
       "      <td>b'sid_h'</td>\n",
       "      <td>b'rid_i'</td>\n",
       "      <td>b'rid_h'</td>\n",
       "      <td>b'qid_i'</td>\n",
       "      <td>b'qid_h'</td>\n",
       "      <td>...</td>\n",
       "      <td>b'tm101'</td>\n",
       "      <td>b'tm102'</td>\n",
       "      <td>b'tm103'</td>\n",
       "      <td>b'tm104'</td>\n",
       "      <td>b'tm105'</td>\n",
       "      <td>b'tm106'</td>\n",
       "      <td>b'tm107'</td>\n",
       "      <td>b'tm108'</td>\n",
       "      <td>b'tm109'</td>\n",
       "      <td>b'tm111'</td>\n",
       "    </tr>\n",
       "    <tr>\n",
       "      <th>1</th>\n",
       "      <td>3</td>\n",
       "      <td>112601</td>\n",
       "      <td>1.0012e+06</td>\n",
       "      <td>10012</td>\n",
       "      <td>1.0012e+06</td>\n",
       "      <td>10012</td>\n",
       "      <td>1.0012e+06</td>\n",
       "      <td>10012</td>\n",
       "      <td>1.0012e+06</td>\n",
       "      <td>10012</td>\n",
       "      <td>...</td>\n",
       "      <td>None</td>\n",
       "      <td>None</td>\n",
       "      <td>None</td>\n",
       "      <td>None</td>\n",
       "      <td>None</td>\n",
       "      <td>None</td>\n",
       "      <td>None</td>\n",
       "      <td>None</td>\n",
       "      <td>None</td>\n",
       "      <td>None</td>\n",
       "    </tr>\n",
       "    <tr>\n",
       "      <th>2</th>\n",
       "      <td>7</td>\n",
       "      <td>112201</td>\n",
       "      <td>1.0003e+06</td>\n",
       "      <td>10003</td>\n",
       "      <td>1.0003e+06</td>\n",
       "      <td>10003</td>\n",
       "      <td>1.0003e+06</td>\n",
       "      <td>10003</td>\n",
       "      <td>1.0003e+06</td>\n",
       "      <td>10003</td>\n",
       "      <td>...</td>\n",
       "      <td>None</td>\n",
       "      <td>None</td>\n",
       "      <td>None</td>\n",
       "      <td>None</td>\n",
       "      <td>None</td>\n",
       "      <td>None</td>\n",
       "      <td>None</td>\n",
       "      <td>None</td>\n",
       "      <td>None</td>\n",
       "      <td>None</td>\n",
       "    </tr>\n",
       "    <tr>\n",
       "      <th>3</th>\n",
       "      <td>9</td>\n",
       "      <td>112301</td>\n",
       "      <td>1.0004e+06</td>\n",
       "      <td>10004</td>\n",
       "      <td>1.0004e+06</td>\n",
       "      <td>10004</td>\n",
       "      <td>1.0004e+06</td>\n",
       "      <td>10004</td>\n",
       "      <td>1.0004e+06</td>\n",
       "      <td>10004</td>\n",
       "      <td>...</td>\n",
       "      <td>None</td>\n",
       "      <td>None</td>\n",
       "      <td>None</td>\n",
       "      <td>None</td>\n",
       "      <td>None</td>\n",
       "      <td>None</td>\n",
       "      <td>None</td>\n",
       "      <td>None</td>\n",
       "      <td>None</td>\n",
       "      <td>None</td>\n",
       "    </tr>\n",
       "    <tr>\n",
       "      <th>4</th>\n",
       "      <td>36</td>\n",
       "      <td>113201</td>\n",
       "      <td>1.0024e+06</td>\n",
       "      <td>10024</td>\n",
       "      <td>1.0024e+06</td>\n",
       "      <td>10024</td>\n",
       "      <td>1.0024e+06</td>\n",
       "      <td>10024</td>\n",
       "      <td>1.0024e+06</td>\n",
       "      <td>10024</td>\n",
       "      <td>...</td>\n",
       "      <td>None</td>\n",
       "      <td>None</td>\n",
       "      <td>None</td>\n",
       "      <td>None</td>\n",
       "      <td>None</td>\n",
       "      <td>None</td>\n",
       "      <td>None</td>\n",
       "      <td>None</td>\n",
       "      <td>None</td>\n",
       "      <td>None</td>\n",
       "    </tr>\n",
       "  </tbody>\n",
       "</table>\n",
       "<p>5 rows × 864 columns</p>\n",
       "</div>"
      ],
      "text/plain": [
       "        0            1           2         3           4         5    \\\n",
       "0  b'idind'  b'tredid_i'    b'tid_i'  b'tid_h'    b'sid_i'  b'sid_h'   \n",
       "1         3       112601  1.0012e+06     10012  1.0012e+06     10012   \n",
       "2         7       112201  1.0003e+06     10003  1.0003e+06     10003   \n",
       "3         9       112301  1.0004e+06     10004  1.0004e+06     10004   \n",
       "4        36       113201  1.0024e+06     10024  1.0024e+06     10024   \n",
       "\n",
       "          6         7           8         9      ...          854       855  \\\n",
       "0    b'rid_i'  b'rid_h'    b'qid_i'  b'qid_h'    ...     b'tm101'  b'tm102'   \n",
       "1  1.0012e+06     10012  1.0012e+06     10012    ...         None      None   \n",
       "2  1.0003e+06     10003  1.0003e+06     10003    ...         None      None   \n",
       "3  1.0004e+06     10004  1.0004e+06     10004    ...         None      None   \n",
       "4  1.0024e+06     10024  1.0024e+06     10024    ...         None      None   \n",
       "\n",
       "        856       857       858       859       860       861       862  \\\n",
       "0  b'tm103'  b'tm104'  b'tm105'  b'tm106'  b'tm107'  b'tm108'  b'tm109'   \n",
       "1      None      None      None      None      None      None      None   \n",
       "2      None      None      None      None      None      None      None   \n",
       "3      None      None      None      None      None      None      None   \n",
       "4      None      None      None      None      None      None      None   \n",
       "\n",
       "        863  \n",
       "0  b'tm111'  \n",
       "1      None  \n",
       "2      None  \n",
       "3      None  \n",
       "4      None  \n",
       "\n",
       "[5 rows x 864 columns]"
      ]
     },
     "execution_count": 4,
     "metadata": {},
     "output_type": "execute_result"
    }
   ],
   "source": [
    "df.head()"
   ]
  },
  {
   "cell_type": "markdown",
   "metadata": {},
   "source": [
    "Преобразуем названия столбцов в приемлемый вид:"
   ]
  },
  {
   "cell_type": "code",
   "execution_count": 5,
   "metadata": {},
   "outputs": [],
   "source": [
    "data = df.rename(columns=df.iloc[0].apply(lambda x: str(x)[2:-1]))"
   ]
  },
  {
   "cell_type": "code",
   "execution_count": 6,
   "metadata": {},
   "outputs": [],
   "source": [
    "data.drop(data.index[0], inplace=True)"
   ]
  },
  {
   "cell_type": "code",
   "execution_count": 7,
   "metadata": {},
   "outputs": [
    {
     "data": {
      "text/html": [
       "<div>\n",
       "<style scoped>\n",
       "    .dataframe tbody tr th:only-of-type {\n",
       "        vertical-align: middle;\n",
       "    }\n",
       "\n",
       "    .dataframe tbody tr th {\n",
       "        vertical-align: top;\n",
       "    }\n",
       "\n",
       "    .dataframe thead th {\n",
       "        text-align: right;\n",
       "    }\n",
       "</style>\n",
       "<table border=\"1\" class=\"dataframe\">\n",
       "  <thead>\n",
       "    <tr style=\"text-align: right;\">\n",
       "      <th></th>\n",
       "      <th>idind</th>\n",
       "      <th>tredid_i</th>\n",
       "      <th>tid_i</th>\n",
       "      <th>tid_h</th>\n",
       "      <th>sid_i</th>\n",
       "      <th>sid_h</th>\n",
       "      <th>rid_i</th>\n",
       "      <th>rid_h</th>\n",
       "      <th>qid_i</th>\n",
       "      <th>qid_h</th>\n",
       "      <th>...</th>\n",
       "      <th>tm101</th>\n",
       "      <th>tm102</th>\n",
       "      <th>tm103</th>\n",
       "      <th>tm104</th>\n",
       "      <th>tm105</th>\n",
       "      <th>tm106</th>\n",
       "      <th>tm107</th>\n",
       "      <th>tm108</th>\n",
       "      <th>tm109</th>\n",
       "      <th>tm111</th>\n",
       "    </tr>\n",
       "  </thead>\n",
       "  <tbody>\n",
       "    <tr>\n",
       "      <th>1</th>\n",
       "      <td>3</td>\n",
       "      <td>112601</td>\n",
       "      <td>1.0012e+06</td>\n",
       "      <td>10012</td>\n",
       "      <td>1.0012e+06</td>\n",
       "      <td>10012</td>\n",
       "      <td>1.0012e+06</td>\n",
       "      <td>10012</td>\n",
       "      <td>1.0012e+06</td>\n",
       "      <td>10012</td>\n",
       "      <td>...</td>\n",
       "      <td>None</td>\n",
       "      <td>None</td>\n",
       "      <td>None</td>\n",
       "      <td>None</td>\n",
       "      <td>None</td>\n",
       "      <td>None</td>\n",
       "      <td>None</td>\n",
       "      <td>None</td>\n",
       "      <td>None</td>\n",
       "      <td>None</td>\n",
       "    </tr>\n",
       "    <tr>\n",
       "      <th>2</th>\n",
       "      <td>7</td>\n",
       "      <td>112201</td>\n",
       "      <td>1.0003e+06</td>\n",
       "      <td>10003</td>\n",
       "      <td>1.0003e+06</td>\n",
       "      <td>10003</td>\n",
       "      <td>1.0003e+06</td>\n",
       "      <td>10003</td>\n",
       "      <td>1.0003e+06</td>\n",
       "      <td>10003</td>\n",
       "      <td>...</td>\n",
       "      <td>None</td>\n",
       "      <td>None</td>\n",
       "      <td>None</td>\n",
       "      <td>None</td>\n",
       "      <td>None</td>\n",
       "      <td>None</td>\n",
       "      <td>None</td>\n",
       "      <td>None</td>\n",
       "      <td>None</td>\n",
       "      <td>None</td>\n",
       "    </tr>\n",
       "    <tr>\n",
       "      <th>3</th>\n",
       "      <td>9</td>\n",
       "      <td>112301</td>\n",
       "      <td>1.0004e+06</td>\n",
       "      <td>10004</td>\n",
       "      <td>1.0004e+06</td>\n",
       "      <td>10004</td>\n",
       "      <td>1.0004e+06</td>\n",
       "      <td>10004</td>\n",
       "      <td>1.0004e+06</td>\n",
       "      <td>10004</td>\n",
       "      <td>...</td>\n",
       "      <td>None</td>\n",
       "      <td>None</td>\n",
       "      <td>None</td>\n",
       "      <td>None</td>\n",
       "      <td>None</td>\n",
       "      <td>None</td>\n",
       "      <td>None</td>\n",
       "      <td>None</td>\n",
       "      <td>None</td>\n",
       "      <td>None</td>\n",
       "    </tr>\n",
       "    <tr>\n",
       "      <th>4</th>\n",
       "      <td>36</td>\n",
       "      <td>113201</td>\n",
       "      <td>1.0024e+06</td>\n",
       "      <td>10024</td>\n",
       "      <td>1.0024e+06</td>\n",
       "      <td>10024</td>\n",
       "      <td>1.0024e+06</td>\n",
       "      <td>10024</td>\n",
       "      <td>1.0024e+06</td>\n",
       "      <td>10024</td>\n",
       "      <td>...</td>\n",
       "      <td>None</td>\n",
       "      <td>None</td>\n",
       "      <td>None</td>\n",
       "      <td>None</td>\n",
       "      <td>None</td>\n",
       "      <td>None</td>\n",
       "      <td>None</td>\n",
       "      <td>None</td>\n",
       "      <td>None</td>\n",
       "      <td>None</td>\n",
       "    </tr>\n",
       "    <tr>\n",
       "      <th>5</th>\n",
       "      <td>37</td>\n",
       "      <td>113202</td>\n",
       "      <td>1.0024e+06</td>\n",
       "      <td>10024</td>\n",
       "      <td>1.0024e+06</td>\n",
       "      <td>10024</td>\n",
       "      <td>1.0024e+06</td>\n",
       "      <td>10024</td>\n",
       "      <td>1.0024e+06</td>\n",
       "      <td>10024</td>\n",
       "      <td>...</td>\n",
       "      <td>None</td>\n",
       "      <td>None</td>\n",
       "      <td>None</td>\n",
       "      <td>None</td>\n",
       "      <td>None</td>\n",
       "      <td>None</td>\n",
       "      <td>None</td>\n",
       "      <td>None</td>\n",
       "      <td>None</td>\n",
       "      <td>None</td>\n",
       "    </tr>\n",
       "  </tbody>\n",
       "</table>\n",
       "<p>5 rows × 864 columns</p>\n",
       "</div>"
      ],
      "text/plain": [
       "  idind tredid_i       tid_i  tid_h       sid_i  sid_h       rid_i  rid_h  \\\n",
       "1     3   112601  1.0012e+06  10012  1.0012e+06  10012  1.0012e+06  10012   \n",
       "2     7   112201  1.0003e+06  10003  1.0003e+06  10003  1.0003e+06  10003   \n",
       "3     9   112301  1.0004e+06  10004  1.0004e+06  10004  1.0004e+06  10004   \n",
       "4    36   113201  1.0024e+06  10024  1.0024e+06  10024  1.0024e+06  10024   \n",
       "5    37   113202  1.0024e+06  10024  1.0024e+06  10024  1.0024e+06  10024   \n",
       "\n",
       "        qid_i  qid_h  ...  tm101 tm102 tm103 tm104 tm105 tm106 tm107 tm108  \\\n",
       "1  1.0012e+06  10012  ...   None  None  None  None  None  None  None  None   \n",
       "2  1.0003e+06  10003  ...   None  None  None  None  None  None  None  None   \n",
       "3  1.0004e+06  10004  ...   None  None  None  None  None  None  None  None   \n",
       "4  1.0024e+06  10024  ...   None  None  None  None  None  None  None  None   \n",
       "5  1.0024e+06  10024  ...   None  None  None  None  None  None  None  None   \n",
       "\n",
       "  tm109 tm111  \n",
       "1  None  None  \n",
       "2  None  None  \n",
       "3  None  None  \n",
       "4  None  None  \n",
       "5  None  None  \n",
       "\n",
       "[5 rows x 864 columns]"
      ]
     },
     "execution_count": 7,
     "metadata": {},
     "output_type": "execute_result"
    }
   ],
   "source": [
    "data.head()"
   ]
  },
  {
   "cell_type": "markdown",
   "metadata": {},
   "source": [
    "Создадим новый датафрейм только с нужными переменными.\n",
    "[Файл с описанием переменных](https://www.hse.ru/data/2017/06/05/1116555090/R24_ind_codebook_21.03.17.pdf)\n",
    "1. region -- регион\n",
    "2. status -- тип населенного пункта\n",
    "3. t_marst -- семейное положение во время проведения опроса\n",
    "4. t_age -- возраст респондента\n",
    "5. t_occup08 -- код профессиональной группы\n",
    "6. t_educ -- образование индивида \n",
    "7. t_diplom -- законченное образование\n",
    "8. th5 -- пол респондента\n",
    "9. th6 -- год рождения респондента\n",
    "10. ti1 -- факторная переменная, равная 1, если респондент родился в другом населенном пункте, и 2, если он родился в том же населенном пункте, где живет сейчас\n",
    "11. ti3 -- где вы родились (город, поселок, село?)\n",
    "12. ti4 -- кем вы считаете себя по национальности?\n",
    "13. tj1 -- выше основное занятие в настоящее время? (1 -- если вы сейчас работаете)\n",
    "14. tj2cod08 -- код профессии по ISCO2008 основной работы \n",
    "15. tj4.1 -- в какой отрасли Вы работаете на этой работе? \n",
    "16. tj5a -- с какого года Вы работаете на этом предприятии, на этой работе? \n",
    "17. tj5b -- с какого месяца Вы работаете на этом предприятии, на этой работе? \n",
    "Соотвественно, чтобы рассчитать стаж, необходима дата проведения опроса:\n",
    "18. t_int_y -- год опроса\n",
    "19. th7.2 -- дата проведения интервью: месяц \n",
    "20. tj6.1a -- cколько в среднем часов и минут продолжается Ваш обычный рабочий день на этой работе? (ЧАСОВ)\n",
    "21. tj6.2 -- сколько часов в среднем продолжается Ваша обычная рабочая неделя?\n",
    "22. tj7 -- Вы работали по основному месту работы в течение последних 30 дней? \n",
    "23. tj7.1 -- сколько всего рабочих дней было у Вас за последние 30 дней? \n",
    "24. tj8 -- сколько часов Вы фактически отработали по основному месту работы в течение последних 30 дней? \n",
    "25. tj10 -- сколько денег в течение последних 30 дней Вы получили по основному месту работы после вычета налогов и отчислений? \n",
    "26. tj13.2 -- за последние 12 месяцев какова была Ваша среднемесячная зарплата на этом предприятии после вычета налогов - независимо от того, платят Вам ее вовремя или нет?\n",
    "27. tj260 -- скажите, пожалуйста, Вы владеете каким-либо иностранным языком, помимо языков бывших республик СССР? \n",
    "28. tj261 -- каким именно иностранным языком Вы владеете? Если Вы знаете несколько иностранных языков, то укажите тот, которым Вы владеете лучше всего \n",
    "29. tj262 -- в какой степени Вы владеете иностранным языком?  \n",
    "\n",
    "Также необходим идентификационный номер респондента в 20 волне (10.2011 - 02.2012). В 2011 году задавался вопрос о родителях респондента: кем они работали и какое образование у них было, когда респонденту было 15 лет. Эти данные можно использовать в качестве инструментов для образования. С одной стороны, образование родителей повышается шансы на получение хорошего образования у ребенка. То есть эти инструменты должны быть релевантными. С другой стороны, место работы родителей и их уровень образования не должны влиять на доход респондента сейчас. То есть эти инструменты экзогенны. \n",
    "\n",
    "30. pid_i -- НОМЕР ИНДИВИДА В 20-Й ВОЛНЕ - ИДЕНТИФИКАЦИОННЫЙ\n",
    "31. pid_h -- ИДЕНТИФИКАЦИОННАЯ ПЕРЕМЕННАЯ 20-го РАУНДА "
   ]
  },
  {
   "cell_type": "code",
   "execution_count": 8,
   "metadata": {},
   "outputs": [],
   "source": [
    "variables = ['region', 'status', 't_marst', 't_age', 't_occup08', 't_educ', 't_diplom', 'th5', 'th6', 'ti1', \\\n",
    "            'ti3', 'ti4', 'tj1', 'tj2cod08', 'tj4.1', 'tj5a', 'tj5b', 't_int_y', 'th7.2', 'tj6.1a', \\\n",
    "            'tj6.2', 'tj7', 'tj7.1', 'tj8', 'tj10', 'tj13.2', 'tj260', 'tj261', 'tj262', \\\n",
    "            'pid_i', 'pid_h']"
   ]
  },
  {
   "cell_type": "code",
   "execution_count": 9,
   "metadata": {},
   "outputs": [],
   "source": [
    "ldata = data[variables]"
   ]
  },
  {
   "cell_type": "code",
   "execution_count": 10,
   "metadata": {},
   "outputs": [
    {
     "data": {
      "text/html": [
       "<div>\n",
       "<style scoped>\n",
       "    .dataframe tbody tr th:only-of-type {\n",
       "        vertical-align: middle;\n",
       "    }\n",
       "\n",
       "    .dataframe tbody tr th {\n",
       "        vertical-align: top;\n",
       "    }\n",
       "\n",
       "    .dataframe thead th {\n",
       "        text-align: right;\n",
       "    }\n",
       "</style>\n",
       "<table border=\"1\" class=\"dataframe\">\n",
       "  <thead>\n",
       "    <tr style=\"text-align: right;\">\n",
       "      <th></th>\n",
       "      <th>region</th>\n",
       "      <th>status</th>\n",
       "      <th>t_marst</th>\n",
       "      <th>t_age</th>\n",
       "      <th>t_occup08</th>\n",
       "      <th>t_educ</th>\n",
       "      <th>t_diplom</th>\n",
       "      <th>th5</th>\n",
       "      <th>th6</th>\n",
       "      <th>ti1</th>\n",
       "      <th>...</th>\n",
       "      <th>tj7</th>\n",
       "      <th>tj7.1</th>\n",
       "      <th>tj8</th>\n",
       "      <th>tj10</th>\n",
       "      <th>tj13.2</th>\n",
       "      <th>tj260</th>\n",
       "      <th>tj261</th>\n",
       "      <th>tj262</th>\n",
       "      <th>pid_i</th>\n",
       "      <th>pid_h</th>\n",
       "    </tr>\n",
       "  </thead>\n",
       "  <tbody>\n",
       "    <tr>\n",
       "      <th>1</th>\n",
       "      <td>1</td>\n",
       "      <td>3</td>\n",
       "      <td>5</td>\n",
       "      <td>60</td>\n",
       "      <td>5</td>\n",
       "      <td>16</td>\n",
       "      <td>4</td>\n",
       "      <td>2</td>\n",
       "      <td>1955</td>\n",
       "      <td>1</td>\n",
       "      <td>...</td>\n",
       "      <td>1</td>\n",
       "      <td>7</td>\n",
       "      <td>168</td>\n",
       "      <td>28000</td>\n",
       "      <td>23000</td>\n",
       "      <td>2</td>\n",
       "      <td>None</td>\n",
       "      <td>None</td>\n",
       "      <td>1.0012e+06</td>\n",
       "      <td>10012</td>\n",
       "    </tr>\n",
       "    <tr>\n",
       "      <th>2</th>\n",
       "      <td>1</td>\n",
       "      <td>3</td>\n",
       "      <td>1</td>\n",
       "      <td>71</td>\n",
       "      <td>None</td>\n",
       "      <td>7</td>\n",
       "      <td>2</td>\n",
       "      <td>2</td>\n",
       "      <td>1944</td>\n",
       "      <td>1</td>\n",
       "      <td>...</td>\n",
       "      <td>None</td>\n",
       "      <td>None</td>\n",
       "      <td>None</td>\n",
       "      <td>None</td>\n",
       "      <td>None</td>\n",
       "      <td>2</td>\n",
       "      <td>None</td>\n",
       "      <td>None</td>\n",
       "      <td>1.0003e+06</td>\n",
       "      <td>10003</td>\n",
       "    </tr>\n",
       "    <tr>\n",
       "      <th>3</th>\n",
       "      <td>1</td>\n",
       "      <td>3</td>\n",
       "      <td>2</td>\n",
       "      <td>69</td>\n",
       "      <td>None</td>\n",
       "      <td>19</td>\n",
       "      <td>5</td>\n",
       "      <td>2</td>\n",
       "      <td>1946</td>\n",
       "      <td>1</td>\n",
       "      <td>...</td>\n",
       "      <td>None</td>\n",
       "      <td>None</td>\n",
       "      <td>None</td>\n",
       "      <td>None</td>\n",
       "      <td>None</td>\n",
       "      <td>2</td>\n",
       "      <td>None</td>\n",
       "      <td>None</td>\n",
       "      <td>1.0004e+06</td>\n",
       "      <td>10004</td>\n",
       "    </tr>\n",
       "    <tr>\n",
       "      <th>4</th>\n",
       "      <td>1</td>\n",
       "      <td>3</td>\n",
       "      <td>2</td>\n",
       "      <td>61</td>\n",
       "      <td>None</td>\n",
       "      <td>8</td>\n",
       "      <td>2</td>\n",
       "      <td>2</td>\n",
       "      <td>1954</td>\n",
       "      <td>1</td>\n",
       "      <td>...</td>\n",
       "      <td>None</td>\n",
       "      <td>None</td>\n",
       "      <td>None</td>\n",
       "      <td>None</td>\n",
       "      <td>None</td>\n",
       "      <td>2</td>\n",
       "      <td>None</td>\n",
       "      <td>None</td>\n",
       "      <td>1.0024e+06</td>\n",
       "      <td>10024</td>\n",
       "    </tr>\n",
       "    <tr>\n",
       "      <th>5</th>\n",
       "      <td>1</td>\n",
       "      <td>3</td>\n",
       "      <td>2</td>\n",
       "      <td>58</td>\n",
       "      <td>None</td>\n",
       "      <td>14</td>\n",
       "      <td>4</td>\n",
       "      <td>1</td>\n",
       "      <td>1956</td>\n",
       "      <td>1</td>\n",
       "      <td>...</td>\n",
       "      <td>None</td>\n",
       "      <td>None</td>\n",
       "      <td>None</td>\n",
       "      <td>None</td>\n",
       "      <td>None</td>\n",
       "      <td>2</td>\n",
       "      <td>None</td>\n",
       "      <td>None</td>\n",
       "      <td>1.0024e+06</td>\n",
       "      <td>10024</td>\n",
       "    </tr>\n",
       "  </tbody>\n",
       "</table>\n",
       "<p>5 rows × 31 columns</p>\n",
       "</div>"
      ],
      "text/plain": [
       "  region status t_marst t_age t_occup08 t_educ t_diplom th5   th6 ti1  ...    \\\n",
       "1      1      3       5    60         5     16        4   2  1955   1  ...     \n",
       "2      1      3       1    71      None      7        2   2  1944   1  ...     \n",
       "3      1      3       2    69      None     19        5   2  1946   1  ...     \n",
       "4      1      3       2    61      None      8        2   2  1954   1  ...     \n",
       "5      1      3       2    58      None     14        4   1  1956   1  ...     \n",
       "\n",
       "    tj7 tj7.1   tj8   tj10 tj13.2 tj260 tj261 tj262       pid_i  pid_h  \n",
       "1     1     7   168  28000  23000     2  None  None  1.0012e+06  10012  \n",
       "2  None  None  None   None   None     2  None  None  1.0003e+06  10003  \n",
       "3  None  None  None   None   None     2  None  None  1.0004e+06  10004  \n",
       "4  None  None  None   None   None     2  None  None  1.0024e+06  10024  \n",
       "5  None  None  None   None   None     2  None  None  1.0024e+06  10024  \n",
       "\n",
       "[5 rows x 31 columns]"
      ]
     },
     "execution_count": 10,
     "metadata": {},
     "output_type": "execute_result"
    }
   ],
   "source": [
    "ldata.head()"
   ]
  },
  {
   "cell_type": "markdown",
   "metadata": {},
   "source": [
    "## Пропуски в данных"
   ]
  },
  {
   "cell_type": "code",
   "execution_count": 11,
   "metadata": {},
   "outputs": [
    {
     "data": {
      "image/png": "[encoded data removed]",
      "text/plain": [
       "<Figure size 432x288 with 1 Axes>"
      ]
     },
     "metadata": {
      "needs_background": "light"
     },
     "output_type": "display_data"
    }
   ],
   "source": [
    "#print(ldata.isnull().sum())\n",
    "sns.heatmap(ldata.isnull(), yticklabels=False, cbar=False, cmap='viridis')\n",
    "plt.show()"
   ]
  },
  {
   "cell_type": "markdown",
   "metadata": {},
   "source": [
    "Уберем всех, кто не работал по основному месту работу в последние 30 дней, а также тех, кто отказался называть свой заработок. Затем исключим всех, кто где-либо затруднился с ответом."
   ]
  },
  {
   "cell_type": "code",
   "execution_count": 12,
   "metadata": {},
   "outputs": [],
   "source": [
    "ldata = ldata[ldata['tj7']==1]\n",
    "for i in list(ldata.columns):\n",
    "    ldata = ldata[(ldata[i] != 99999997) & (ldata[i] != 99999998) & (ldata[i] != 99999999)]"
   ]
  },
  {
   "cell_type": "code",
   "execution_count": 13,
   "metadata": {},
   "outputs": [
    {
     "data": {
      "text/plain": [
       "region          0\n",
       "status          0\n",
       "t_marst         0\n",
       "t_age           0\n",
       "t_occup08       0\n",
       "t_educ          0\n",
       "t_diplom        0\n",
       "th5             0\n",
       "th6             0\n",
       "ti1             0\n",
       "ti3          2012\n",
       "ti4             0\n",
       "tj1             0\n",
       "tj2cod08        0\n",
       "tj4.1           0\n",
       "tj5a            0\n",
       "tj5b            0\n",
       "t_int_y         0\n",
       "th7.2           0\n",
       "tj6.1a          0\n",
       "tj6.2           0\n",
       "tj7             0\n",
       "tj7.1           0\n",
       "tj8             0\n",
       "tj10            0\n",
       "tj13.2        307\n",
       "tj260           0\n",
       "tj261        3155\n",
       "tj262        3155\n",
       "pid_i        1257\n",
       "pid_h        1257\n",
       "dtype: int64"
      ]
     },
     "execution_count": 13,
     "metadata": {},
     "output_type": "execute_result"
    }
   ],
   "source": [
    "ldata = ldata.dropna(subset=['tj10'])\n",
    "ldata.isnull().sum()"
   ]
  },
  {
   "cell_type": "markdown",
   "metadata": {},
   "source": [
    "Пропуски в переменной ti3 связаны с тем, что респондент родился в том же населенном пункте, где живет сейчас (ti1 = 2)."
   ]
  },
  {
   "cell_type": "code",
   "execution_count": 14,
   "metadata": {},
   "outputs": [
    {
     "data": {
      "text/plain": [
       "2012"
      ]
     },
     "execution_count": 14,
     "metadata": {},
     "output_type": "execute_result"
    }
   ],
   "source": [
    "ldata[ldata['ti1'] == 2].ti1.count()"
   ]
  },
  {
   "cell_type": "code",
   "execution_count": 15,
   "metadata": {},
   "outputs": [],
   "source": [
    "ldata['ti3'].fillna(ldata['status'], inplace = True)"
   ]
  },
  {
   "cell_type": "markdown",
   "metadata": {},
   "source": [
    "Для людей с неназванной зарплатой за последние 12 месяцев я не придумала ничего лучше, чем просто вставить доход прошедшего месяца. Скорее всего это переменная не будет использоваться. "
   ]
  },
  {
   "cell_type": "code",
   "execution_count": 16,
   "metadata": {},
   "outputs": [],
   "source": [
    "ldata['tj13.2'].fillna(ldata['tj10'], inplace = True)"
   ]
  },
  {
   "cell_type": "code",
   "execution_count": 17,
   "metadata": {},
   "outputs": [
    {
     "data": {
      "text/plain": [
       "count     3867.0\n",
       "unique       2.0\n",
       "top          2.0\n",
       "freq      3155.0\n",
       "Name: tj260, dtype: float64"
      ]
     },
     "execution_count": 17,
     "metadata": {},
     "output_type": "execute_result"
    }
   ],
   "source": [
    "ldata['tj260'].describe()"
   ]
  },
  {
   "cell_type": "markdown",
   "metadata": {},
   "source": [
    "Из графика ниже видно, что чуть меньше, чем большинтсво респондентов ответили, что не владеют иностранными языками."
   ]
  },
  {
   "cell_type": "code",
   "execution_count": 18,
   "metadata": {
    "scrolled": true
   },
   "outputs": [
    {
     "data": {
      "text/plain": [
       "<matplotlib.axes._subplots.AxesSubplot at 0x167bca3f4e0>"
      ]
     },
     "execution_count": 18,
     "metadata": {},
     "output_type": "execute_result"
    },
    {
     "data": {
      "image/png": "[encoded data removed]",
      "text/plain": [
       "<Figure size 432x288 with 1 Axes>"
      ]
     },
     "metadata": {
      "needs_background": "light"
     },
     "output_type": "display_data"
    }
   ],
   "source": [
    "sns.countplot(x='tj260', data=ldata)"
   ]
  },
  {
   "cell_type": "markdown",
   "metadata": {},
   "source": [
    "Большинство людей, давших положительный ответ на предыдущий вопрос, выбрали в качестве основного языка английский "
   ]
  },
  {
   "cell_type": "code",
   "execution_count": 19,
   "metadata": {},
   "outputs": [
    {
     "data": {
      "text/plain": [
       "<matplotlib.axes._subplots.AxesSubplot at 0x167b1cf54e0>"
      ]
     },
     "execution_count": 19,
     "metadata": {},
     "output_type": "execute_result"
    },
    {
     "data": {
      "image/png": "[encoded data removed]",
      "text/plain": [
       "<Figure size 432x288 with 1 Axes>"
      ]
     },
     "metadata": {
      "needs_background": "light"
     },
     "output_type": "display_data"
    }
   ],
   "source": [
    "sns.countplot(x = 'tj261', data=ldata)"
   ]
  },
  {
   "cell_type": "code",
   "execution_count": 20,
   "metadata": {},
   "outputs": [
    {
     "data": {
      "image/png": "[encoded data removed]",
      "text/plain": [
       "<Figure size 432x288 with 1 Axes>"
      ]
     },
     "metadata": {
      "needs_background": "light"
     },
     "output_type": "display_data"
    }
   ],
   "source": [
    "sns.heatmap(ldata.isnull(), yticklabels=False, cbar=False, cmap='viridis')\n",
    "plt.show()"
   ]
  },
  {
   "cell_type": "markdown",
   "metadata": {},
   "source": [
    "## Преобразование факторных переменных в бинарные\n",
    "Вместо того, чтобы заполнять пропуски в данных в переменных tj261 и tj262, создадим столбцы бинарных переменных для английского, немецкого, французского и остальных языков. "
   ]
  },
  {
   "cell_type": "code",
   "execution_count": 21,
   "metadata": {},
   "outputs": [],
   "source": [
    "for i in ldata['tj261'].unique():\n",
    "    if i == 1 or i == 2 or i == 3:\n",
    "        ldata[str(i)] = (ldata['tj261'] == i).astype(float)\n",
    "for i in ldata['tj261'].unique():\n",
    "    if i != None and float(i)>=4: \n",
    "        ldata['other'] = (ldata['tj261'] == i).astype(float)\n",
    "#ldata.drop(['tj261', 'tj262'], axis = 1)\n",
    "ldata = ldata.rename(columns={'1.0': 'english', '2.0': 'german', '3.0': 'french'})"
   ]
  },
  {
   "cell_type": "code",
   "execution_count": 22,
   "metadata": {},
   "outputs": [],
   "source": [
    "# бинарная переменная для пола\n",
    "for i in ldata['th5'].unique():\n",
    "    if i == 1:\n",
    "        ldata['th5'] = (ldata['th5'] == i).astype(float)\n",
    "ldata = ldata.rename(columns={'th5': 'male'})"
   ]
  },
  {
   "cell_type": "markdown",
   "metadata": {},
   "source": [
    "Пусть переменная t_diplom обозначает наличие высшего образования у респондента. t_marst преобразуем в бинарную перемнную, равную 1, если респондент находится в браке. "
   ]
  },
  {
   "cell_type": "code",
   "execution_count": 23,
   "metadata": {},
   "outputs": [],
   "source": [
    "for i in ldata['t_diplom'].unique():\n",
    "    if i == 6: #шесть это высшее образование и выше\n",
    "        ldata['t_diplom'] = (ldata['t_diplom'] == i).astype(float)"
   ]
  },
  {
   "cell_type": "code",
   "execution_count": 24,
   "metadata": {},
   "outputs": [],
   "source": [
    "for i in ldata['t_marst'].unique():\n",
    "    if i == 2 or i == 3: # в браке или живете вместе \n",
    "        ldata['t_marst'] = (ldata['t_marst'] == i).astype(float)"
   ]
  },
  {
   "cell_type": "markdown",
   "metadata": {},
   "source": [
    "Судя по описанию, переменная t_educ приблизительно равна количеству лет обучения респондента, поэтому оставим ее как есть. Плюс напишем функцию, которая преобразует факторные переменные в бинарные. "
   ]
  },
  {
   "cell_type": "code",
   "execution_count": 25,
   "metadata": {},
   "outputs": [],
   "source": [
    "def factor_to_binary(data, feature):\n",
    "    for i in data[feature].unique():\n",
    "        data[feature + '=' + i] = (data[feature] == i).astype(float)"
   ]
  },
  {
   "cell_type": "code",
   "execution_count": 26,
   "metadata": {},
   "outputs": [
    {
     "data": {
      "text/html": [
       "<div>\n",
       "<style scoped>\n",
       "    .dataframe tbody tr th:only-of-type {\n",
       "        vertical-align: middle;\n",
       "    }\n",
       "\n",
       "    .dataframe tbody tr th {\n",
       "        vertical-align: top;\n",
       "    }\n",
       "\n",
       "    .dataframe thead th {\n",
       "        text-align: right;\n",
       "    }\n",
       "</style>\n",
       "<table border=\"1\" class=\"dataframe\">\n",
       "  <thead>\n",
       "    <tr style=\"text-align: right;\">\n",
       "      <th></th>\n",
       "      <th>region</th>\n",
       "      <th>status</th>\n",
       "      <th>t_marst</th>\n",
       "      <th>t_age</th>\n",
       "      <th>t_occup08</th>\n",
       "      <th>t_educ</th>\n",
       "      <th>t_diplom</th>\n",
       "      <th>male</th>\n",
       "      <th>th6</th>\n",
       "      <th>ti1</th>\n",
       "      <th>...</th>\n",
       "      <th>tj13.2</th>\n",
       "      <th>tj260</th>\n",
       "      <th>tj261</th>\n",
       "      <th>tj262</th>\n",
       "      <th>pid_i</th>\n",
       "      <th>pid_h</th>\n",
       "      <th>english</th>\n",
       "      <th>french</th>\n",
       "      <th>german</th>\n",
       "      <th>other</th>\n",
       "    </tr>\n",
       "  </thead>\n",
       "  <tbody>\n",
       "    <tr>\n",
       "      <th>1</th>\n",
       "      <td>1</td>\n",
       "      <td>3</td>\n",
       "      <td>0.0</td>\n",
       "      <td>60</td>\n",
       "      <td>5</td>\n",
       "      <td>16</td>\n",
       "      <td>0.0</td>\n",
       "      <td>0.0</td>\n",
       "      <td>1955</td>\n",
       "      <td>1</td>\n",
       "      <td>...</td>\n",
       "      <td>23000.0</td>\n",
       "      <td>2</td>\n",
       "      <td>None</td>\n",
       "      <td>None</td>\n",
       "      <td>1.0012e+06</td>\n",
       "      <td>10012</td>\n",
       "      <td>0.0</td>\n",
       "      <td>0.0</td>\n",
       "      <td>0.0</td>\n",
       "      <td>0.0</td>\n",
       "    </tr>\n",
       "    <tr>\n",
       "      <th>7</th>\n",
       "      <td>1</td>\n",
       "      <td>4</td>\n",
       "      <td>0.0</td>\n",
       "      <td>61</td>\n",
       "      <td>8</td>\n",
       "      <td>14</td>\n",
       "      <td>0.0</td>\n",
       "      <td>1.0</td>\n",
       "      <td>1954</td>\n",
       "      <td>1</td>\n",
       "      <td>...</td>\n",
       "      <td>27000.0</td>\n",
       "      <td>2</td>\n",
       "      <td>None</td>\n",
       "      <td>None</td>\n",
       "      <td>1.0084e+06</td>\n",
       "      <td>10084</td>\n",
       "      <td>0.0</td>\n",
       "      <td>0.0</td>\n",
       "      <td>0.0</td>\n",
       "      <td>0.0</td>\n",
       "    </tr>\n",
       "    <tr>\n",
       "      <th>9</th>\n",
       "      <td>1</td>\n",
       "      <td>4</td>\n",
       "      <td>0.0</td>\n",
       "      <td>62</td>\n",
       "      <td>2</td>\n",
       "      <td>18</td>\n",
       "      <td>0.0</td>\n",
       "      <td>0.0</td>\n",
       "      <td>1953</td>\n",
       "      <td>1</td>\n",
       "      <td>...</td>\n",
       "      <td>19000.0</td>\n",
       "      <td>2</td>\n",
       "      <td>None</td>\n",
       "      <td>None</td>\n",
       "      <td>1.0085e+06</td>\n",
       "      <td>10085</td>\n",
       "      <td>0.0</td>\n",
       "      <td>0.0</td>\n",
       "      <td>0.0</td>\n",
       "      <td>0.0</td>\n",
       "    </tr>\n",
       "    <tr>\n",
       "      <th>10</th>\n",
       "      <td>1</td>\n",
       "      <td>4</td>\n",
       "      <td>0.0</td>\n",
       "      <td>61</td>\n",
       "      <td>3</td>\n",
       "      <td>18</td>\n",
       "      <td>0.0</td>\n",
       "      <td>0.0</td>\n",
       "      <td>1954</td>\n",
       "      <td>1</td>\n",
       "      <td>...</td>\n",
       "      <td>22000.0</td>\n",
       "      <td>2</td>\n",
       "      <td>None</td>\n",
       "      <td>None</td>\n",
       "      <td>1.0086e+06</td>\n",
       "      <td>10086</td>\n",
       "      <td>0.0</td>\n",
       "      <td>0.0</td>\n",
       "      <td>0.0</td>\n",
       "      <td>0.0</td>\n",
       "    </tr>\n",
       "    <tr>\n",
       "      <th>11</th>\n",
       "      <td>1</td>\n",
       "      <td>4</td>\n",
       "      <td>0.0</td>\n",
       "      <td>62</td>\n",
       "      <td>5</td>\n",
       "      <td>16</td>\n",
       "      <td>0.0</td>\n",
       "      <td>0.0</td>\n",
       "      <td>1953</td>\n",
       "      <td>1</td>\n",
       "      <td>...</td>\n",
       "      <td>20000.0</td>\n",
       "      <td>2</td>\n",
       "      <td>None</td>\n",
       "      <td>None</td>\n",
       "      <td>1.0088e+06</td>\n",
       "      <td>10088</td>\n",
       "      <td>0.0</td>\n",
       "      <td>0.0</td>\n",
       "      <td>0.0</td>\n",
       "      <td>0.0</td>\n",
       "    </tr>\n",
       "  </tbody>\n",
       "</table>\n",
       "<p>5 rows × 35 columns</p>\n",
       "</div>"
      ],
      "text/plain": [
       "   region status  t_marst t_age t_occup08 t_educ  t_diplom  male   th6 ti1  \\\n",
       "1       1      3      0.0    60         5     16       0.0   0.0  1955   1   \n",
       "7       1      4      0.0    61         8     14       0.0   1.0  1954   1   \n",
       "9       1      4      0.0    62         2     18       0.0   0.0  1953   1   \n",
       "10      1      4      0.0    61         3     18       0.0   0.0  1954   1   \n",
       "11      1      4      0.0    62         5     16       0.0   0.0  1953   1   \n",
       "\n",
       "    ...    tj13.2 tj260 tj261 tj262       pid_i  pid_h english french german  \\\n",
       "1   ...   23000.0     2  None  None  1.0012e+06  10012     0.0    0.0    0.0   \n",
       "7   ...   27000.0     2  None  None  1.0084e+06  10084     0.0    0.0    0.0   \n",
       "9   ...   19000.0     2  None  None  1.0085e+06  10085     0.0    0.0    0.0   \n",
       "10  ...   22000.0     2  None  None  1.0086e+06  10086     0.0    0.0    0.0   \n",
       "11  ...   20000.0     2  None  None  1.0088e+06  10088     0.0    0.0    0.0   \n",
       "\n",
       "   other  \n",
       "1    0.0  \n",
       "7    0.0  \n",
       "9    0.0  \n",
       "10   0.0  \n",
       "11   0.0  \n",
       "\n",
       "[5 rows x 35 columns]"
      ]
     },
     "execution_count": 26,
     "metadata": {},
     "output_type": "execute_result"
    }
   ],
   "source": [
    "ldata.head()"
   ]
  },
  {
   "cell_type": "markdown",
   "metadata": {},
   "source": [
    "## Модель\n",
    "У меня все время всё вылетает с ошибкой \"Shapes not aligned\" или \"operands could not be broadcast together with shapes\" или еще  что-нибудь похожее на это. Гугл мне сильно не помог, и я не знаю, как это исправить :'(\n",
    "Гретль открывает эти файлы через раз, и вообще я как-то не собиралась в нём проект делать. "
   ]
  },
  {
   "cell_type": "code",
   "execution_count": 27,
   "metadata": {},
   "outputs": [
    {
     "ename": "ValueError",
     "evalue": "operands could not be broadcast together with shapes (3867,1,321) (3867,150) ",
     "output_type": "error",
     "traceback": [
      "\u001b[1;31m---------------------------------------------------------------------------\u001b[0m",
      "\u001b[1;31mValueError\u001b[0m                                Traceback (most recent call last)",
      "\u001b[1;32m<ipython-input-27-fcfeb016e98b>\u001b[0m in \u001b[0;36m<module>\u001b[1;34m\u001b[0m\n\u001b[1;32m----> 1\u001b[1;33m \u001b[0mmodel\u001b[0m \u001b[1;33m=\u001b[0m \u001b[0msmf\u001b[0m\u001b[1;33m.\u001b[0m\u001b[0mols\u001b[0m\u001b[1;33m(\u001b[0m\u001b[1;34m'tj10 ~ 1 + male + t_age + I(t_age*t_age) + t_educ + english + french + german + other'\u001b[0m\u001b[1;33m,\u001b[0m \u001b[0mdata\u001b[0m\u001b[1;33m=\u001b[0m\u001b[0mldata\u001b[0m\u001b[1;33m)\u001b[0m\u001b[1;33m.\u001b[0m\u001b[0mfit\u001b[0m\u001b[1;33m(\u001b[0m\u001b[0mcov_type\u001b[0m\u001b[1;33m=\u001b[0m\u001b[1;34m'HC0'\u001b[0m\u001b[1;33m)\u001b[0m\u001b[1;33m\u001b[0m\u001b[1;33m\u001b[0m\u001b[0m\n\u001b[0m\u001b[0;32m      2\u001b[0m \u001b[0mprint\u001b[0m\u001b[1;33m(\u001b[0m\u001b[0mmodel\u001b[0m\u001b[1;33m.\u001b[0m\u001b[0msummary\u001b[0m\u001b[1;33m(\u001b[0m\u001b[1;33m)\u001b[0m\u001b[1;33m)\u001b[0m\u001b[1;33m\u001b[0m\u001b[1;33m\u001b[0m\u001b[0m\n",
      "\u001b[1;32mD:\\Anaconda_64-bit\\lib\\site-packages\\statsmodels\\regression\\linear_model.py\u001b[0m in \u001b[0;36mfit\u001b[1;34m(self, method, cov_type, cov_kwds, use_t, **kwargs)\u001b[0m\n\u001b[0;32m    309\u001b[0m                 \u001b[0mself\u001b[0m\u001b[1;33m,\u001b[0m \u001b[0mbeta\u001b[0m\u001b[1;33m,\u001b[0m\u001b[1;33m\u001b[0m\u001b[1;33m\u001b[0m\u001b[0m\n\u001b[0;32m    310\u001b[0m                 \u001b[0mnormalized_cov_params\u001b[0m\u001b[1;33m=\u001b[0m\u001b[0mself\u001b[0m\u001b[1;33m.\u001b[0m\u001b[0mnormalized_cov_params\u001b[0m\u001b[1;33m,\u001b[0m\u001b[1;33m\u001b[0m\u001b[1;33m\u001b[0m\u001b[0m\n\u001b[1;32m--> 311\u001b[1;33m                 cov_type=cov_type, cov_kwds=cov_kwds, use_t=use_t)\n\u001b[0m\u001b[0;32m    312\u001b[0m         \u001b[1;32melse\u001b[0m\u001b[1;33m:\u001b[0m\u001b[1;33m\u001b[0m\u001b[1;33m\u001b[0m\u001b[0m\n\u001b[0;32m    313\u001b[0m             lfit = RegressionResults(\n",
      "\u001b[1;32mD:\\Anaconda_64-bit\\lib\\site-packages\\statsmodels\\regression\\linear_model.py\u001b[0m in \u001b[0;36m__init__\u001b[1;34m(self, model, params, normalized_cov_params, scale, cov_type, cov_kwds, use_t, **kwargs)\u001b[0m\n\u001b[0;32m   1459\u001b[0m                 \u001b[1;31m# TODO: warn or not?\u001b[0m\u001b[1;33m\u001b[0m\u001b[1;33m\u001b[0m\u001b[1;33m\u001b[0m\u001b[0m\n\u001b[0;32m   1460\u001b[0m             self.get_robustcov_results(cov_type=cov_type, use_self=True,\n\u001b[1;32m-> 1461\u001b[1;33m                                        use_t=use_t, **cov_kwds)\n\u001b[0m\u001b[0;32m   1462\u001b[0m         \u001b[1;32mfor\u001b[0m \u001b[0mkey\u001b[0m \u001b[1;32min\u001b[0m \u001b[0mkwargs\u001b[0m\u001b[1;33m:\u001b[0m\u001b[1;33m\u001b[0m\u001b[1;33m\u001b[0m\u001b[0m\n\u001b[0;32m   1463\u001b[0m             \u001b[0msetattr\u001b[0m\u001b[1;33m(\u001b[0m\u001b[0mself\u001b[0m\u001b[1;33m,\u001b[0m \u001b[0mkey\u001b[0m\u001b[1;33m,\u001b[0m \u001b[0mkwargs\u001b[0m\u001b[1;33m[\u001b[0m\u001b[0mkey\u001b[0m\u001b[1;33m]\u001b[0m\u001b[1;33m)\u001b[0m\u001b[1;33m\u001b[0m\u001b[1;33m\u001b[0m\u001b[0m\n",
      "\u001b[1;32mD:\\Anaconda_64-bit\\lib\\site-packages\\statsmodels\\regression\\linear_model.py\u001b[0m in \u001b[0;36mget_robustcov_results\u001b[1;34m(self, cov_type, use_t, **kwds)\u001b[0m\n\u001b[0;32m   2180\u001b[0m                 'robust ' + '(' + cov_type + ')')\n\u001b[0;32m   2181\u001b[0m             \u001b[1;31m# TODO cannot access cov without calling se first\u001b[0m\u001b[1;33m\u001b[0m\u001b[1;33m\u001b[0m\u001b[1;33m\u001b[0m\u001b[0m\n\u001b[1;32m-> 2182\u001b[1;33m             \u001b[0mgetattr\u001b[0m\u001b[1;33m(\u001b[0m\u001b[0mself\u001b[0m\u001b[1;33m,\u001b[0m \u001b[0mcov_type\u001b[0m\u001b[1;33m.\u001b[0m\u001b[0mupper\u001b[0m\u001b[1;33m(\u001b[0m\u001b[1;33m)\u001b[0m \u001b[1;33m+\u001b[0m \u001b[1;34m'_se'\u001b[0m\u001b[1;33m)\u001b[0m\u001b[1;33m\u001b[0m\u001b[1;33m\u001b[0m\u001b[0m\n\u001b[0m\u001b[0;32m   2183\u001b[0m             \u001b[0mres\u001b[0m\u001b[1;33m.\u001b[0m\u001b[0mcov_params_default\u001b[0m \u001b[1;33m=\u001b[0m \u001b[0mgetattr\u001b[0m\u001b[1;33m(\u001b[0m\u001b[0mself\u001b[0m\u001b[1;33m,\u001b[0m \u001b[1;34m'cov_'\u001b[0m \u001b[1;33m+\u001b[0m \u001b[0mcov_type\u001b[0m\u001b[1;33m.\u001b[0m\u001b[0mupper\u001b[0m\u001b[1;33m(\u001b[0m\u001b[1;33m)\u001b[0m\u001b[1;33m)\u001b[0m\u001b[1;33m\u001b[0m\u001b[1;33m\u001b[0m\u001b[0m\n\u001b[0;32m   2184\u001b[0m         \u001b[1;32melif\u001b[0m \u001b[0mcov_type\u001b[0m\u001b[1;33m.\u001b[0m\u001b[0mlower\u001b[0m\u001b[1;33m(\u001b[0m\u001b[1;33m)\u001b[0m \u001b[1;33m==\u001b[0m \u001b[1;34m'hac'\u001b[0m\u001b[1;33m:\u001b[0m\u001b[1;33m\u001b[0m\u001b[1;33m\u001b[0m\u001b[0m\n",
      "\u001b[1;32mD:\\Anaconda_64-bit\\lib\\site-packages\\statsmodels\\tools\\decorators.py\u001b[0m in \u001b[0;36m__get__\u001b[1;34m(self, obj, type)\u001b[0m\n\u001b[0;32m     95\u001b[0m         \u001b[1;32mif\u001b[0m \u001b[0m_cachedval\u001b[0m \u001b[1;32mis\u001b[0m \u001b[1;32mNone\u001b[0m\u001b[1;33m:\u001b[0m\u001b[1;33m\u001b[0m\u001b[1;33m\u001b[0m\u001b[0m\n\u001b[0;32m     96\u001b[0m             \u001b[1;31m# Call the \"fget\" function\u001b[0m\u001b[1;33m\u001b[0m\u001b[1;33m\u001b[0m\u001b[1;33m\u001b[0m\u001b[0m\n\u001b[1;32m---> 97\u001b[1;33m             \u001b[0m_cachedval\u001b[0m \u001b[1;33m=\u001b[0m \u001b[0mself\u001b[0m\u001b[1;33m.\u001b[0m\u001b[0mfget\u001b[0m\u001b[1;33m(\u001b[0m\u001b[0mobj\u001b[0m\u001b[1;33m)\u001b[0m\u001b[1;33m\u001b[0m\u001b[1;33m\u001b[0m\u001b[0m\n\u001b[0m\u001b[0;32m     98\u001b[0m             \u001b[1;31m# Set the attribute in obj\u001b[0m\u001b[1;33m\u001b[0m\u001b[1;33m\u001b[0m\u001b[1;33m\u001b[0m\u001b[0m\n\u001b[0;32m     99\u001b[0m             \u001b[1;31m# print(\"Setting %s in cache to %s\" % (name, _cachedval))\u001b[0m\u001b[1;33m\u001b[0m\u001b[1;33m\u001b[0m\u001b[1;33m\u001b[0m\u001b[0m\n",
      "\u001b[1;32mD:\\Anaconda_64-bit\\lib\\site-packages\\statsmodels\\regression\\linear_model.py\u001b[0m in \u001b[0;36mHC0_se\u001b[1;34m(self)\u001b[0m\n\u001b[0;32m   1689\u001b[0m         \u001b[0mSee\u001b[0m \u001b[0mstatsmodels\u001b[0m\u001b[1;33m.\u001b[0m\u001b[0mRegressionResults\u001b[0m\u001b[1;33m\u001b[0m\u001b[1;33m\u001b[0m\u001b[0m\n\u001b[0;32m   1690\u001b[0m         \"\"\"\n\u001b[1;32m-> 1691\u001b[1;33m         \u001b[1;32mreturn\u001b[0m \u001b[0mnp\u001b[0m\u001b[1;33m.\u001b[0m\u001b[0msqrt\u001b[0m\u001b[1;33m(\u001b[0m\u001b[0mnp\u001b[0m\u001b[1;33m.\u001b[0m\u001b[0mdiag\u001b[0m\u001b[1;33m(\u001b[0m\u001b[0mself\u001b[0m\u001b[1;33m.\u001b[0m\u001b[0mcov_HC0\u001b[0m\u001b[1;33m)\u001b[0m\u001b[1;33m)\u001b[0m\u001b[1;33m\u001b[0m\u001b[1;33m\u001b[0m\u001b[0m\n\u001b[0m\u001b[0;32m   1692\u001b[0m \u001b[1;33m\u001b[0m\u001b[0m\n\u001b[0;32m   1693\u001b[0m     \u001b[1;33m@\u001b[0m\u001b[0mcache_readonly\u001b[0m\u001b[1;33m\u001b[0m\u001b[1;33m\u001b[0m\u001b[0m\n",
      "\u001b[1;32mD:\\Anaconda_64-bit\\lib\\site-packages\\statsmodels\\tools\\decorators.py\u001b[0m in \u001b[0;36m__get__\u001b[1;34m(self, obj, type)\u001b[0m\n\u001b[0;32m     95\u001b[0m         \u001b[1;32mif\u001b[0m \u001b[0m_cachedval\u001b[0m \u001b[1;32mis\u001b[0m \u001b[1;32mNone\u001b[0m\u001b[1;33m:\u001b[0m\u001b[1;33m\u001b[0m\u001b[1;33m\u001b[0m\u001b[0m\n\u001b[0;32m     96\u001b[0m             \u001b[1;31m# Call the \"fget\" function\u001b[0m\u001b[1;33m\u001b[0m\u001b[1;33m\u001b[0m\u001b[1;33m\u001b[0m\u001b[0m\n\u001b[1;32m---> 97\u001b[1;33m             \u001b[0m_cachedval\u001b[0m \u001b[1;33m=\u001b[0m \u001b[0mself\u001b[0m\u001b[1;33m.\u001b[0m\u001b[0mfget\u001b[0m\u001b[1;33m(\u001b[0m\u001b[0mobj\u001b[0m\u001b[1;33m)\u001b[0m\u001b[1;33m\u001b[0m\u001b[1;33m\u001b[0m\u001b[0m\n\u001b[0m\u001b[0;32m     98\u001b[0m             \u001b[1;31m# Set the attribute in obj\u001b[0m\u001b[1;33m\u001b[0m\u001b[1;33m\u001b[0m\u001b[1;33m\u001b[0m\u001b[0m\n\u001b[0;32m     99\u001b[0m             \u001b[1;31m# print(\"Setting %s in cache to %s\" % (name, _cachedval))\u001b[0m\u001b[1;33m\u001b[0m\u001b[1;33m\u001b[0m\u001b[1;33m\u001b[0m\u001b[0m\n",
      "\u001b[1;32mD:\\Anaconda_64-bit\\lib\\site-packages\\statsmodels\\regression\\linear_model.py\u001b[0m in \u001b[0;36mcov_HC0\u001b[1;34m(self)\u001b[0m\n\u001b[0;32m   1646\u001b[0m \u001b[1;33m\u001b[0m\u001b[0m\n\u001b[0;32m   1647\u001b[0m         \u001b[0mself\u001b[0m\u001b[1;33m.\u001b[0m\u001b[0mhet_scale\u001b[0m \u001b[1;33m=\u001b[0m \u001b[0mself\u001b[0m\u001b[1;33m.\u001b[0m\u001b[0mwresid\u001b[0m\u001b[1;33m**\u001b[0m\u001b[1;36m2\u001b[0m\u001b[1;33m\u001b[0m\u001b[1;33m\u001b[0m\u001b[0m\n\u001b[1;32m-> 1648\u001b[1;33m         \u001b[0mcov_HC0\u001b[0m \u001b[1;33m=\u001b[0m \u001b[0mself\u001b[0m\u001b[1;33m.\u001b[0m\u001b[0m_HCCM\u001b[0m\u001b[1;33m(\u001b[0m\u001b[0mself\u001b[0m\u001b[1;33m.\u001b[0m\u001b[0mhet_scale\u001b[0m\u001b[1;33m)\u001b[0m\u001b[1;33m\u001b[0m\u001b[1;33m\u001b[0m\u001b[0m\n\u001b[0m\u001b[0;32m   1649\u001b[0m         \u001b[1;32mreturn\u001b[0m \u001b[0mcov_HC0\u001b[0m\u001b[1;33m\u001b[0m\u001b[1;33m\u001b[0m\u001b[0m\n\u001b[0;32m   1650\u001b[0m \u001b[1;33m\u001b[0m\u001b[0m\n",
      "\u001b[1;32mD:\\Anaconda_64-bit\\lib\\site-packages\\statsmodels\\regression\\linear_model.py\u001b[0m in \u001b[0;36m_HCCM\u001b[1;34m(self, scale)\u001b[0m\n\u001b[0;32m   1636\u001b[0m     \u001b[1;32mdef\u001b[0m \u001b[0m_HCCM\u001b[0m\u001b[1;33m(\u001b[0m\u001b[0mself\u001b[0m\u001b[1;33m,\u001b[0m \u001b[0mscale\u001b[0m\u001b[1;33m)\u001b[0m\u001b[1;33m:\u001b[0m\u001b[1;33m\u001b[0m\u001b[1;33m\u001b[0m\u001b[0m\n\u001b[0;32m   1637\u001b[0m         H = np.dot(self.model.pinv_wexog,\n\u001b[1;32m-> 1638\u001b[1;33m                    scale[:, None] * self.model.pinv_wexog.T)\n\u001b[0m\u001b[0;32m   1639\u001b[0m         \u001b[1;32mreturn\u001b[0m \u001b[0mH\u001b[0m\u001b[1;33m\u001b[0m\u001b[1;33m\u001b[0m\u001b[0m\n\u001b[0;32m   1640\u001b[0m \u001b[1;33m\u001b[0m\u001b[0m\n",
      "\u001b[1;31mValueError\u001b[0m: operands could not be broadcast together with shapes (3867,1,321) (3867,150) "
     ]
    }
   ],
   "source": [
    "model = smf.ols('tj10 ~ 1 + male + t_age + I(t_age*t_age) + t_educ + english + french + german + other', data=ldata).fit(cov_type='HC0') \n",
    "print(model.summary())"
   ]
  },
  {
   "cell_type": "markdown",
   "metadata": {},
   "source": [
    "## Данные 20 волны\n",
    "Загрузим данные репрезентативной выборки для 20 волны. [Описание переменных для 20 волны](https://www.hse.ru/data/2016/06/07/1247611077/R20_ind_codebook.pdf)"
   ]
  },
  {
   "cell_type": "markdown",
   "metadata": {},
   "source": [
    "Про данные 20 волны: с ними тоже ничего хорошего не получилось. После того, как я попробовала сопоставить респондентов и их ответы в 2011 году, осталось 254 наблюдения. Может быть. ошибка в когде, или я идентификаторы перепутала? Если проблема не решится, можно ли рассматривать как вариант использование 20 волны, которая проводилась 10.2011 - 02.2012?"
   ]
  },
  {
   "cell_type": "code",
   "execution_count": null,
   "metadata": {},
   "outputs": [],
   "source": [
    "import savReaderWriter as s\n",
    "df20 = pd.DataFrame(list(s.SavReader('r20i_os26c.sav', returnHeader = True))) "
   ]
  },
  {
   "cell_type": "code",
   "execution_count": null,
   "metadata": {},
   "outputs": [],
   "source": [
    "df20.head()"
   ]
  },
  {
   "cell_type": "code",
   "execution_count": null,
   "metadata": {},
   "outputs": [],
   "source": [
    "data20 = df20.rename(columns=df20.iloc[0].apply(lambda x: str(x)[2:-1]))"
   ]
  },
  {
   "cell_type": "code",
   "execution_count": null,
   "metadata": {},
   "outputs": [],
   "source": [
    "data20.drop(data20.index[0], inplace=True)"
   ]
  },
  {
   "cell_type": "code",
   "execution_count": null,
   "metadata": {},
   "outputs": [],
   "source": [
    "data20.head()"
   ]
  },
  {
   "cell_type": "code",
   "execution_count": null,
   "metadata": {},
   "outputs": [],
   "source": [
    "data20['pj217a'].describe()"
   ]
  },
  {
   "cell_type": "markdown",
   "metadata": {},
   "source": [
    "1. pj217a -- Какое образование было у Вашего отца или человека, который заменил Вам его, когда Вам было 15 лет?\n",
    "2. pj217b -- Какое образование было у Вашей матери или женщины, которая заменила Вам ее, когда Вам было 15 лет?\n",
    "3. pj216ac08  -- Код профессии по ISCO2008 работы отца респондента, когда респонденту было 15 лет\n",
    "4. pj216bc08 -- Код профессии по ISCO2008 работы матери респондента, когда респонденту было 15 лет"
   ]
  },
  {
   "cell_type": "code",
   "execution_count": null,
   "metadata": {},
   "outputs": [],
   "source": [
    "data['f_educ'] = data20.pid_h.map(data20['pj217a'])\n",
    "data['f_educ'].describe()"
   ]
  },
  {
   "cell_type": "code",
   "execution_count": null,
   "metadata": {},
   "outputs": [],
   "source": [
    "data['m_educ'] = data20.pid_h.map(data20['pj217b'])\n",
    "data['m_educ'].describe()"
   ]
  },
  {
   "cell_type": "code",
   "execution_count": null,
   "metadata": {},
   "outputs": [],
   "source": []
  }
 ],
 "metadata": {
  "kernelspec": {
   "display_name": "Python 3",
   "language": "python",
   "name": "python3"
  },
  "language_info": {
   "codemirror_mode": {
    "name": "ipython",
    "version": 3
   },
   "file_extension": ".py",
   "mimetype": "text/x-python",
   "name": "python",
   "nbconvert_exporter": "python",
   "pygments_lexer": "ipython3",
   "version": "3.7.1"
  }
 },
 "nbformat": 4,
 "nbformat_minor": 2
}
